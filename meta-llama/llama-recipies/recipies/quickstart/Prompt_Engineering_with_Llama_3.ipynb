{
 "cells": [
  {
   "cell_type": "markdown",
   "metadata": {},
   "source": [
    "#### Wednesday, May 8, 2024\n",
    "\n",
    "mamba activate llama3\n",
    "\n",
    "This all runs in one pass."
   ]
  },
  {
   "attachments": {},
   "cell_type": "markdown",
   "metadata": {},
   "source": [
    "<a href=\"https://colab.research.google.com/github/meta-llama/llama-recipes/blob/main/recipes/quickstart/Prompt_Engineering_with_Llama_3.ipynb\" target=\"_parent\"><img src=\"https://colab.research.google.com/assets/colab-badge.svg\" alt=\"Open In Colab\"/></a>\n",
    "\n",
    "# Prompt Engineering with Llama 3\n",
    "\n",
    "Prompt engineering is using natural language to produce a desired response from a large language model (LLM).\n",
    "\n",
    "This interactive guide covers prompt engineering & best practices with Llama 3."
   ]
  },
  {
   "attachments": {},
   "cell_type": "markdown",
   "metadata": {},
   "source": [
    "## Introduction"
   ]
  },
  {
   "attachments": {},
   "cell_type": "markdown",
   "metadata": {},
   "source": [
    "### Why now?\n",
    "\n",
    "[Vaswani et al. (2017)](https://arxiv.org/abs/1706.03762) introduced the world to transformer neural networks (originally for machine translation). Transformers ushered an era of generative AI with diffusion models for image creation and large language models (`LLMs`) as **programmable deep learning networks**.\n",
    "\n",
    "Programming foundational LLMs is done with natural language – it doesn't require training/tuning like ML models of the past. This has opened the door to a massive amount of innovation and a paradigm shift in how technology can be deployed. The science/art of using natural language to program language models to accomplish a task is referred to as **Prompt Engineering**."
   ]
  },
  {
   "attachments": {},
   "cell_type": "markdown",
   "metadata": {},
   "source": [
    "### Llama Models\n",
    "\n",
    "In 2023, Meta introduced the [Llama language models](https://ai.meta.com/llama/) (Llama Chat, Code Llama, Llama Guard). These are general purpose, state-of-the-art LLMs.\n",
    "\n",
    "Llama models come in varying parameter sizes. The smaller models are cheaper to deploy and run; the larger models are more capable.\n",
    "\n",
    "#### Llama 3\n",
    "1. `llama-3-8b` - base pretrained 8 billion parameter model\n",
    "1. `llama-3-70b` - base pretrained 70 billion parameter model\n",
    "1. `llama-3-8b-instruct` - instruction fine-tuned 8 billion parameter model\n",
    "1. `llama-3-70b-instruct` - instruction fine-tuned 70 billion parameter model (flagship)\n",
    "\n",
    "#### Llama 2\n",
    "1. `llama-2-7b` - base pretrained 7 billion parameter model\n",
    "1. `llama-2-13b` - base pretrained 13 billion parameter model\n",
    "1. `llama-2-70b` - base pretrained 70 billion parameter model\n",
    "1. `llama-2-7b-chat` - chat fine-tuned 7 billion parameter model\n",
    "1. `llama-2-13b-chat` - chat fine-tuned 13 billion parameter model\n",
    "1. `llama-2-70b-chat` - chat fine-tuned 70 billion parameter model (flagship)\n"
   ]
  },
  {
   "attachments": {},
   "cell_type": "markdown",
   "metadata": {},
   "source": [
    "Code Llama is a code-focused LLM built on top of Llama 2 also available in various sizes and finetunes:"
   ]
  },
  {
   "attachments": {},
   "cell_type": "markdown",
   "metadata": {},
   "source": [
    "#### Code Llama\n",
    "1. `codellama-7b` - code fine-tuned 7 billion parameter model\n",
    "1. `codellama-13b` - code fine-tuned 13 billion parameter model\n",
    "1. `codellama-34b` - code fine-tuned 34 billion parameter model\n",
    "1. `codellama-70b` - code fine-tuned 70 billion parameter model\n",
    "1. `codellama-7b-instruct` - code & instruct fine-tuned 7 billion parameter model\n",
    "2. `codellama-13b-instruct` - code & instruct fine-tuned 13 billion parameter model\n",
    "3. `codellama-34b-instruct` - code & instruct fine-tuned 34 billion parameter model\n",
    "3. `codellama-70b-instruct` - code & instruct fine-tuned 70 billion parameter model\n",
    "1. `codellama-7b-python` - Python fine-tuned 7 billion parameter model\n",
    "2. `codellama-13b-python` - Python fine-tuned 13 billion parameter model\n",
    "3. `codellama-34b-python` - Python fine-tuned 34 billion parameter model\n",
    "3. `codellama-70b-python` - Python fine-tuned 70 billion parameter model"
   ]
  },
  {
   "attachments": {},
   "cell_type": "markdown",
   "metadata": {},
   "source": [
    "## Getting an LLM\n",
    "\n",
    "Large language models are deployed and accessed in a variety of ways, including:\n",
    "\n",
    "1. **Self-hosting**: Using local hardware to run inference. Ex. running Llama on your Macbook Pro using [llama.cpp](https://github.com/ggerganov/llama.cpp).\n",
    "    * Best for privacy/security or if you already have a GPU.\n",
    "1. **Cloud hosting**: Using a cloud provider to deploy an instance that hosts a specific model. Ex. running Llama on cloud providers like AWS, Azure, GCP, and others.\n",
    "    * Best for customizing models and their runtime (ex. fine-tuning a model for your use case).\n",
    "1. **Hosted API**: Call LLMs directly via an API. There are many companies that provide Llama inference APIs including AWS Bedrock, Replicate, Anyscale, Together and others.\n",
    "    * Easiest option overall."
   ]
  },
  {
   "attachments": {},
   "cell_type": "markdown",
   "metadata": {},
   "source": [
    "### Hosted APIs\n",
    "\n",
    "Hosted APIs are the easiest way to get started. We'll use them here. There are usually two main endpoints:\n",
    "\n",
    "1. **`completion`**: generate a response to a given prompt (a string).\n",
    "1. **`chat_completion`**: generate the next message in a list of messages, enabling more explicit instruction and context for use cases like chatbots."
   ]
  },
  {
   "attachments": {},
   "cell_type": "markdown",
   "metadata": {},
   "source": [
    "## Tokens\n",
    "\n",
    "LLMs process inputs and outputs in chunks called *tokens*. Think of these, roughly, as words – each model will have its own tokenization scheme. For example, this sentence...\n",
    "\n",
    "> Our destiny is written in the stars.\n",
    "\n",
    "...is tokenized into `[\"Our\", \" destiny\", \" is\", \" written\", \" in\", \" the\", \" stars\", \".\"]` for Llama 3. See [this](https://tiktokenizer.vercel.app/?model=meta-llama%2FMeta-Llama-3-8B) for an interactive tokenizer tool.\n",
    "\n",
    "Tokens matter most when you consider API pricing and internal behavior (ex. hyperparameters).\n",
    "\n",
    "Each model has a maximum context length that your prompt cannot exceed. That's 8K tokens for Llama 3, 4K for Llama 2, and 100K for Code Llama. \n"
   ]
  },
  {
   "attachments": {},
   "cell_type": "markdown",
   "metadata": {},
   "source": [
    "## Notebook Setup\n",
    "\n",
    "The following APIs will be used to call LLMs throughout the guide. As an example, we'll call Llama 3 chat using [Grok](https://console.groq.com/playground?model=llama3-70b-8192).\n",
    "\n",
    "To install prerequisites run:"
   ]
  },
  {
   "cell_type": "code",
   "execution_count": 1,
   "metadata": {},
   "outputs": [],
   "source": [
    "import sys\n",
    "# !{sys.executable} -m pip install groq"
   ]
  },
  {
   "cell_type": "code",
   "execution_count": 2,
   "metadata": {},
   "outputs": [],
   "source": [
    "import os\n",
    "from typing import Dict, List\n",
    "from groq import Groq\n",
    "\n"
   ]
  },
  {
   "cell_type": "code",
   "execution_count": 3,
   "metadata": {},
   "outputs": [],
   "source": [
    "import os\n",
    "from getpass import getpass\n",
    "\n",
    "GROQ_API_TOKEN = getpass()\n",
    "\n",
    "os.environ[\"GROQ_API_KEY\"] = GROQ_API_TOKEN"
   ]
  },
  {
   "cell_type": "code",
   "execution_count": 4,
   "metadata": {},
   "outputs": [],
   "source": [
    "LLAMA3_70B_INSTRUCT = \"llama3-70b-8192\"\n",
    "LLAMA3_8B_INSTRUCT = \"llama3-8b-8192\"\n",
    "\n",
    "DEFAULT_MODEL = LLAMA3_70B_INSTRUCT\n",
    "\n",
    "client = Groq()\n",
    "\n",
    "def assistant(content: str):\n",
    "    return { \"role\": \"assistant\", \"content\": content }\n",
    "\n",
    "def user(content: str):\n",
    "    return { \"role\": \"user\", \"content\": content }\n",
    "\n",
    "def chat_completion(\n",
    "    messages: List[Dict],\n",
    "    model = DEFAULT_MODEL,\n",
    "    temperature: float = 0.6,\n",
    "    top_p: float = 0.9,\n",
    ") -> str:\n",
    "    response = client.chat.completions.create(\n",
    "        messages=messages,\n",
    "        model=model,\n",
    "        temperature=temperature,\n",
    "        top_p=top_p,\n",
    "    )\n",
    "    return response.choices[0].message.content\n",
    "        \n",
    "\n",
    "def completion(\n",
    "    prompt: str,\n",
    "    model: str = DEFAULT_MODEL,\n",
    "    temperature: float = 0.6,\n",
    "    top_p: float = 0.9,\n",
    ") -> str:\n",
    "    return chat_completion(\n",
    "        [user(prompt)],\n",
    "        model=model,\n",
    "        temperature=temperature,\n",
    "        top_p=top_p,\n",
    "    )\n",
    "\n",
    "def complete_and_print(prompt: str, model: str = DEFAULT_MODEL):\n",
    "    print(f'==============\\n{prompt}\\n==============')\n",
    "    response = completion(prompt, model)\n",
    "    print(response, end='\\n\\n')\n"
   ]
  },
  {
   "attachments": {},
   "cell_type": "markdown",
   "metadata": {},
   "source": [
    "### Completion APIs\n",
    "\n",
    "Let's try Llama 3!"
   ]
  },
  {
   "cell_type": "code",
   "execution_count": 5,
   "metadata": {},
   "outputs": [
    {
     "name": "stdout",
     "output_type": "stream",
     "text": [
      "==============\n",
      "The typical color of the sky is: \n",
      "==============\n",
      "Blue!\n",
      "\n"
     ]
    }
   ],
   "source": [
    "complete_and_print(\"The typical color of the sky is: \")"
   ]
  },
  {
   "cell_type": "code",
   "execution_count": 6,
   "metadata": {},
   "outputs": [
    {
     "name": "stdout",
     "output_type": "stream",
     "text": [
      "==============\n",
      "which model version are you?\n",
      "==============\n",
      "I'm an AI, and I'm a large language model, specifically a transformer model. My model version is based on the LLaMA architecture, which is a type of transformer model designed for conversational AI.\n",
      "\n",
      "I'm a continually learning and improving model, so I don't have a fixed \"version number\" in the classical sense. However, my knowledge cutoff is around October 2022, and I was trained on a massive dataset of text from the internet.\n",
      "\n",
      "If you're interested in the technical details, my model is based on the LLaMA-Base architecture, which is a variant of the transformer architecture introduced in the paper \"LLaMA: Open and Efficient Foundation Language Models\" by the Meta AI team.\n",
      "\n"
     ]
    }
   ],
   "source": [
    "complete_and_print(\"which model version are you?\")"
   ]
  },
  {
   "attachments": {},
   "cell_type": "markdown",
   "metadata": {},
   "source": [
    "### Chat Completion APIs\n",
    "Chat completion models provide additional structure to interacting with an LLM. An array of structured message objects is sent to the LLM instead of a single piece of text. This message list provides the LLM with some \"context\" or \"history\" from which to continue.\n",
    "\n",
    "Typically, each message contains `role` and `content`:\n",
    "* Messages with the `system` role are used to provide core instruction to the LLM by developers.\n",
    "* Messages with the `user` role are typically human-provided messages.\n",
    "* Messages with the `assistant` role are typically generated by the LLM."
   ]
  },
  {
   "cell_type": "code",
   "execution_count": 7,
   "metadata": {},
   "outputs": [
    {
     "name": "stdout",
     "output_type": "stream",
     "text": [
      "I remember! Your favorite color is blue!\n"
     ]
    }
   ],
   "source": [
    "response = chat_completion(messages=[\n",
    "    user(\"My favorite color is blue.\"),\n",
    "    assistant(\"That's great to hear!\"),\n",
    "    user(\"What is my favorite color?\"),\n",
    "])\n",
    "print(response)\n",
    "# \"Sure, I can help you with that! Your favorite color is blue.\""
   ]
  },
  {
   "attachments": {},
   "cell_type": "markdown",
   "metadata": {},
   "source": [
    "### LLM Hyperparameters\n",
    "\n",
    "#### `temperature` & `top_p`\n",
    "\n",
    "These APIs also take parameters which influence the creativity and determinism of your output.\n",
    "\n",
    "At each step, LLMs generate a list of most likely tokens and their respective probabilities. The least likely tokens are \"cut\" from the list (based on `top_p`), and then a token is randomly selected from the remaining candidates (`temperature`).\n",
    "\n",
    "In other words: `top_p` controls the breadth of vocabulary in a generation and `temperature` controls the randomness within that vocabulary. A temperature of ~0 produces *almost* deterministic results.\n",
    "\n",
    "[Read more about temperature setting here](https://community.openai.com/t/cheat-sheet-mastering-temperature-and-top-p-in-chatgpt-api-a-few-tips-and-tricks-on-controlling-the-creativity-deterministic-output-of-prompt-responses/172683).\n",
    "\n",
    "Let's try it out:"
   ]
  },
  {
   "cell_type": "code",
   "execution_count": 8,
   "metadata": {},
   "outputs": [
    {
     "name": "stdout",
     "output_type": "stream",
     "text": [
      "[temperature: 0.01 | top_p: 0.01]\n",
      "Softly gaze at me\n",
      "Llama's gentle, fuzzy form\n",
      "Serenity\n",
      "\n",
      "[temperature: 0.01 | top_p: 0.01]\n",
      "Softly gaze at me\n",
      "Llama's gentle, fuzzy form\n",
      "Serenity\n",
      "\n",
      "[temperature: 1.0 | top_p: 1.0]\n",
      "Fuzzy, gentle friends\n",
      "Soft eyes and soft, warm fleece shine\n",
      "Llama love surrounds\n",
      "\n",
      "[temperature: 1.0 | top_p: 1.0]\n",
      "Here is a haiku about llamas:\n",
      "\n",
      "Fluffy, gentle friends\n",
      "Soft eyes, gentle humming sound\n",
      "Llama serenity\n",
      "\n"
     ]
    }
   ],
   "source": [
    "def print_tuned_completion(temperature: float, top_p: float):\n",
    "    response = completion(\"Write a haiku about llamas\", temperature=temperature, top_p=top_p)\n",
    "    print(f'[temperature: {temperature} | top_p: {top_p}]\\n{response.strip()}\\n')\n",
    "\n",
    "print_tuned_completion(0.01, 0.01)\n",
    "print_tuned_completion(0.01, 0.01)\n",
    "# These two generations are highly likely to be the same\n",
    "\n",
    "print_tuned_completion(1.0, 1.0)\n",
    "print_tuned_completion(1.0, 1.0)\n",
    "# These two generations are highly likely to be different"
   ]
  },
  {
   "attachments": {},
   "cell_type": "markdown",
   "metadata": {},
   "source": [
    "## Prompting Techniques"
   ]
  },
  {
   "attachments": {},
   "cell_type": "markdown",
   "metadata": {},
   "source": [
    "### Explicit Instructions\n",
    "\n",
    "Detailed, explicit instructions produce better results than open-ended prompts:"
   ]
  },
  {
   "cell_type": "code",
   "execution_count": 9,
   "metadata": {},
   "outputs": [
    {
     "name": "stdout",
     "output_type": "stream",
     "text": [
      "==============\n",
      "Describe quantum physics in one short sentence of no more than 12 words\n",
      "==============\n",
      "Quantum physics: Tiny particles behave weirdly, defying classical logic rules.\n",
      "\n"
     ]
    }
   ],
   "source": [
    "complete_and_print(prompt=\"Describe quantum physics in one short sentence of no more than 12 words\")\n",
    "# Returns a succinct explanation of quantum physics that mentions particles and states existing simultaneously."
   ]
  },
  {
   "attachments": {},
   "cell_type": "markdown",
   "metadata": {},
   "source": [
    "You can think about giving explicit instructions as using rules and restrictions to how Llama 3 responds to your prompt.\n",
    "\n",
    "- Stylization\n",
    "    - `Explain this to me like a topic on a children's educational network show teaching elementary students.`\n",
    "    - `I'm a software engineer using large language models for summarization. Summarize the following text in under 250 words:`\n",
    "    - `Give your answer like an old timey private investigator hunting down a case step by step.`\n",
    "- Formatting\n",
    "    - `Use bullet points.`\n",
    "    - `Return as a JSON object.`\n",
    "    - `Use less technical terms and help me apply it in my work in communications.`\n",
    "- Restrictions\n",
    "    - `Only use academic papers.`\n",
    "    - `Never give sources older than 2020.`\n",
    "    - `If you don't know the answer, say that you don't know.`\n",
    "\n",
    "Here's an example of giving explicit instructions to give more specific results by limiting the responses to recently created sources."
   ]
  },
  {
   "cell_type": "code",
   "execution_count": 10,
   "metadata": {},
   "outputs": [
    {
     "name": "stdout",
     "output_type": "stream",
     "text": [
      "==============\n",
      "Explain the latest advances in large language models to me.\n",
      "==============\n",
      "What an exciting time for natural language processing (NLP) and artificial intelligence (AI)! The latest advances in large language models have been remarkable, with significant improvements in capabilities, efficiency, and applications. Here's a rundown of the latest developments:\n",
      "\n",
      "**Scaling Up:**\n",
      "\n",
      "1. **Transformer-XL**: Introduced in 2019, Transformer-XL is a scaled-up version of the original Transformer architecture. It uses a combination of model parallelism and pipeline parallelism to train massive models with billions of parameters.\n",
      "2. **Megatron-LM**: In 2020, the Megatron-LM model was announced, which is a 8.3 billion parameter model that achieves state-of-the-art results on various NLP tasks.\n",
      "\n",
      "**Efficiency Improvements:**\n",
      "\n",
      "1. **Sparse Models**: Researchers have developed sparse models that maintain performance while reducing computational requirements. This is achieved by pruning unnecessary weights and connections in the model.\n",
      "2. **Knowledge Distillation**: This technique involves training a smaller model (the student) to mimic the behavior of a larger, pre-trained model (the teacher). This allows for more efficient deployment of large models.\n",
      "3. **Quantization**: Models are being quantized to reduce precision from 32-bit floating-point numbers to 8-bit integers, resulting in significant memory and computation savings.\n",
      "\n",
      "**New Architectures:**\n",
      "\n",
      "1. **Electra**: Introduced in 2020, Electra is a new architecture that uses a combination of generator and discriminator models to learn more effective representations.\n",
      "2. **DeBERTa**: DeBERTa is a variant of BERT that uses a disentangled attention mechanism, which allows for more efficient and effective processing of input sequences.\n",
      "\n",
      "**Multimodal and Multitask Learning:**\n",
      "\n",
      "1. **Visual BERT**: This model combines computer vision and NLP to process images and text jointly, enabling tasks like image captioning and visual question answering.\n",
      "2. **Multitask Learning**: Large language models are being trained on multiple tasks simultaneously, such as language translation, question answering, and text classification, to improve overall performance and versatility.\n",
      "\n",
      "**Applications and Implications:**\n",
      "\n",
      "1. **Natural Language Understanding**: Large language models have achieved state-of-the-art results in various NLP tasks, including question answering, sentiment analysis, and text classification.\n",
      "2. **Text Generation**: These models can generate coherent and context-specific text, enabling applications like chatbots, content generation, and language translation.\n",
      "3. **Explainability and Transparency**: Researchers are working to develop techniques to interpret and explain the decision-making processes of large language models, which is essential for building trust in AI systems.\n",
      "\n",
      "These advances have far-reaching implications for industries like customer service, content creation, and language translation. As large language models continue to evolve, we can expect even more innovative applications and breakthroughs in the field of NLP and AI.\n",
      "\n",
      "==============\n",
      "Explain the latest advances in large language models to me. Always cite your sources. Never cite sources older than 2020.\n",
      "==============\n",
      "Here are the latest advances in large language models, citing sources from 2020 or later:\n",
      "\n",
      "**1. Scaling Up: Larger Models, Better Performance**\n",
      "\n",
      "Recent research has focused on scaling up language models to achieve better performance. For example, the BERT-like model, RoBERTa, achieved state-of-the-art results on several NLP tasks by increasing the model size and training data (Liu et al., 2020) [1].\n",
      "\n",
      "**2. Efficient Training and Inference**\n",
      "\n",
      "To make large language models more efficient, researchers have developed techniques like sparse attention (Child et al., 2020) [2] and kernel-based attention (Katharopoulos et al., 2020) [3]. These methods reduce computational complexity while maintaining performance.\n",
      "\n",
      "**3. Multitask Learning and Few-Shot Learning**\n",
      "\n",
      "Large language models have been applied to multitask learning, where a single model is trained on multiple tasks simultaneously. This approach has shown improved performance and transfer learning capabilities (Stickland et al., 2020) [4]. Additionally, few-shot learning has been explored, where models learn to adapt to new tasks with limited labeled data (Brown et al., 2020) [5].\n",
      "\n",
      "**4. Generative Language Models**\n",
      "\n",
      "Generative language models, such as those based on transformer architectures, have made significant progress. For example, the DALL-E model (Ramesh et al., 2021) [6] can generate coherent text and images, demonstrating the power of large language models in creative tasks.\n",
      "\n",
      "**5. Explainability and Interpretability**\n",
      "\n",
      "As large language models become more prevalent, there is a growing need to understand how they make predictions. Researchers have developed techniques like attention visualization (Vig et al., 2020) [7] and saliency maps (Kumar et al., 2020) [8] to provide insights into model decision-making processes.\n",
      "\n",
      "**6. Adversarial Robustness**\n",
      "\n",
      "Large language models are vulnerable to adversarial attacks, which can manipulate model predictions. Researchers have developed techniques to improve adversarial robustness, such as adversarial training (Jiang et al., 2020) [9] and input preprocessing (Li et al., 2020) [10].\n",
      "\n",
      "These advances demonstrate the rapid progress being made in large language models, enabling more efficient, effective, and interpretable models for a wide range of NLP tasks.\n",
      "\n",
      "References:\n",
      "\n",
      "[1] Liu, X., et al. (2020). RoBERTa: A robustly optimized BERT pretraining approach. arXiv preprint arXiv:1907.11692.\n",
      "\n",
      "[2] Child, R., et al. (2020). Generating long sequences with sparse transformer. arXiv preprint arXiv:2004.03039.\n",
      "\n",
      "[3] Katharopoulos, A., et al. (2020). Transformers are RNNs: Fast autoregressive transformers with linear attention. arXiv preprint arXiv:2012.05669.\n",
      "\n",
      "[4] Stickland, R. C., et al. (2020). Multitask learning with deep neural networks. arXiv preprint arXiv:2010.04464.\n",
      "\n",
      "[5] Brown, T. B., et al. (2020). Language models are few-shot learners. arXiv preprint arXiv:2005.14165.\n",
      "\n",
      "[6] Ramesh, A., et al. (2021). Zero-shot text-to-image generation. arXiv preprint arXiv:2102.12092.\n",
      "\n",
      "[7] Vig, J., et al. (2020). A multiscale visualization of attention in transformer-based language models. arXiv preprint arXiv:2010.05493.\n",
      "\n",
      "[8] Kumar, A., et al. (2020). Explaining transformers. arXiv preprint arXiv:2010.05599.\n",
      "\n",
      "[9] Jiang, Y., et al. (2020). Adversarial training for large neural language models. arXiv preprint arXiv:2010.03591.\n",
      "\n",
      "[10] Li, X., et al. (2020). Textual adversarial attacks and defenses in natural language processing. arXiv preprint arXiv:2010.03611.\n",
      "\n"
     ]
    }
   ],
   "source": [
    "complete_and_print(\"Explain the latest advances in large language models to me.\")\n",
    "# More likely to cite sources from 2017\n",
    "\n",
    "complete_and_print(\"Explain the latest advances in large language models to me. Always cite your sources. Never cite sources older than 2020.\")\n",
    "# Gives more specific advances and only cites sources from 2020"
   ]
  },
  {
   "attachments": {},
   "cell_type": "markdown",
   "metadata": {},
   "source": [
    "### Example Prompting using Zero- and Few-Shot Learning\n",
    "\n",
    "A shot is an example or demonstration of what type of prompt and response you expect from a large language model. This term originates from training computer vision models on photographs, where one shot was one example or instance that the model used to classify an image ([Fei-Fei et al. (2006)](http://vision.stanford.edu/documents/Fei-FeiFergusPerona2006.pdf)).\n",
    "\n",
    "#### Zero-Shot Prompting\n",
    "\n",
    "Large language models like Llama 3 are unique because they are capable of following instructions and producing responses without having previously seen an example of a task. Prompting without examples is called \"zero-shot prompting\".\n",
    "\n",
    "Let's try using Llama 3 as a sentiment detector. You may notice that output format varies - we can improve this with better prompting."
   ]
  },
  {
   "cell_type": "code",
   "execution_count": 11,
   "metadata": {},
   "outputs": [
    {
     "name": "stdout",
     "output_type": "stream",
     "text": [
      "==============\n",
      "Text: This was the best movie I've ever seen! \n",
      " The sentiment of the text is: \n",
      "==============\n",
      "Positive.\n",
      "\n",
      "==============\n",
      "Text: The director was trying too hard. \n",
      " The sentiment of the text is: \n",
      "==============\n",
      "Negative\n",
      "\n"
     ]
    }
   ],
   "source": [
    "complete_and_print(\"Text: This was the best movie I've ever seen! \\n The sentiment of the text is: \")\n",
    "# Returns positive sentiment\n",
    "\n",
    "complete_and_print(\"Text: The director was trying too hard. \\n The sentiment of the text is: \")\n",
    "# Returns negative sentiment"
   ]
  },
  {
   "attachments": {},
   "cell_type": "markdown",
   "metadata": {},
   "source": [
    "\n",
    "#### Few-Shot Prompting\n",
    "\n",
    "Adding specific examples of your desired output generally results in more accurate, consistent output. This technique is called \"few-shot prompting\".\n",
    "\n",
    "In this example, the generated response follows our desired format that offers a more nuanced sentiment classifer that gives a positive, neutral, and negative response confidence percentage.\n",
    "\n",
    "See also: [Zhao et al. (2021)](https://arxiv.org/abs/2102.09690), [Liu et al. (2021)](https://arxiv.org/abs/2101.06804), [Su et al. (2022)](https://arxiv.org/abs/2209.01975), [Rubin et al. (2022)](https://arxiv.org/abs/2112.08633).\n",
    "\n"
   ]
  },
  {
   "cell_type": "code",
   "execution_count": 12,
   "metadata": {},
   "outputs": [
    {
     "name": "stdout",
     "output_type": "stream",
     "text": [
      "INPUT: I thought it was okay\n",
      "20% positive 60% neutral 20% negative\n",
      "INPUT: I loved it!\n",
      "90% positive 10% neutral 0% negative\n",
      "INPUT: Terrible service 0/10\n",
      "0% positive 0% neutral 100% negative\n"
     ]
    }
   ],
   "source": [
    "def sentiment(text):\n",
    "    response = chat_completion(messages=[\n",
    "        user(\"You are a sentiment classifier. For each message, give the percentage of positive/netural/negative.\"),\n",
    "        user(\"I liked it\"),\n",
    "        assistant(\"70% positive 30% neutral 0% negative\"),\n",
    "        user(\"It could be better\"),\n",
    "        assistant(\"0% positive 50% neutral 50% negative\"),\n",
    "        user(\"It's fine\"),\n",
    "        assistant(\"25% positive 50% neutral 25% negative\"),\n",
    "        user(text),\n",
    "    ])\n",
    "    return response\n",
    "\n",
    "def print_sentiment(text):\n",
    "    print(f'INPUT: {text}')\n",
    "    print(sentiment(text))\n",
    "\n",
    "print_sentiment(\"I thought it was okay\")\n",
    "# More likely to return a balanced mix of positive, neutral, and negative\n",
    "print_sentiment(\"I loved it!\")\n",
    "# More likely to return 100% positive\n",
    "print_sentiment(\"Terrible service 0/10\")\n",
    "# More likely to return 100% negative"
   ]
  },
  {
   "attachments": {},
   "cell_type": "markdown",
   "metadata": {},
   "source": [
    "### Role Prompting\n",
    "\n",
    "Llama will often give more consistent responses when given a role ([Kong et al. (2023)](https://browse.arxiv.org/pdf/2308.07702.pdf)). Roles give context to the LLM on what type of answers are desired.\n",
    "\n",
    "Let's use Llama 3 to create a more focused, technical response for a question around the pros and cons of using PyTorch."
   ]
  },
  {
   "cell_type": "code",
   "execution_count": 13,
   "metadata": {},
   "outputs": [
    {
     "name": "stdout",
     "output_type": "stream",
     "text": [
      "==============\n",
      "Explain the pros and cons of using PyTorch.\n",
      "==============\n",
      "PyTorch is a popular open-source machine learning library developed by Facebook's AI Research Lab (FAIR). It provides a dynamic computation graph and is particularly well-suited for rapid prototyping and research. Here are some pros and cons of using PyTorch:\n",
      "\n",
      "**Pros:**\n",
      "\n",
      "1. **Dynamic Computation Graph**: PyTorch's dynamic computation graph allows for more flexible and rapid prototyping. It can create and modify the computation graph on the fly, making it ideal for research and development.\n",
      "2. **Easy to Learn**: PyTorch has a relatively low barrier to entry, especially for those familiar with Python and NumPy. Its API is intuitive, and its dynamic computation graph makes it easier to understand and work with.\n",
      "3. **Rapid Prototyping**: PyTorch's dynamic nature and ease of use make it ideal for rapid prototyping and experimentation. It's perfect for quickly testing and iterating on new ideas.\n",
      "4. **Auto-Differentiation**: PyTorch's automatic differentiation system makes it easy to compute gradients, which is essential for training neural networks.\n",
      "5. **Modular Architecture**: PyTorch's modular architecture makes it easy to build and customize neural networks. You can easily create and combine different modules to build complex models.\n",
      "6. **Large Community**: PyTorch has a large and active community, which means there are many resources available, including tutorials, documentation, and pre-built models.\n",
      "7. **Interoperability**: PyTorch can seamlessly integrate with other popular deep learning frameworks, such as TensorFlow and Keras.\n",
      "8. **GPU Acceleration**: PyTorch provides GPU acceleration out of the box, making it suitable for large-scale deep learning applications.\n",
      "\n",
      "**Cons:**\n",
      "\n",
      "1. **Performance**: While PyTorch is fast, it can be slower than other frameworks like TensorFlow or Caffe, especially for large-scale production environments.\n",
      "2. **Memory Management**: PyTorch's dynamic computation graph can lead to memory management issues, especially when working with large models or datasets.\n",
      "3. **Limited Support for Distributed Training**: PyTorch's distributed training capabilities are still developing and may not be as mature as those of other frameworks.\n",
      "4. **Limited Pre-Built Estimators**: PyTorch doesn't have as many pre-built estimators as some other frameworks, which can make it more difficult to implement certain models.\n",
      "5. **Steep Learning Curve for Advanced Topics**: While PyTorch is easy to learn for basic use cases, its advanced features and customization options can be challenging to master.\n",
      "6. **Limited Support for Non-GPU Acceleration**: PyTorch's support for non-GPU acceleration (e.g., CPU or TPU) is limited compared to other frameworks.\n",
      "7. **Debugging Challenges**: PyTorch's dynamic computation graph can make it difficult to debug models, especially for beginners.\n",
      "8. **Limited Support for Deployment**: PyTorch is primarily designed for research and development, and its support for deployment and production environments is limited compared to other frameworks.\n",
      "\n",
      "Overall, PyTorch is an excellent choice for research, rapid prototyping, and development, but it may not be the best fit for large-scale production environments or applications that require high-performance computing.\n",
      "\n",
      "==============\n",
      "Your role is a machine learning expert who gives highly technical advice to senior engineers who work with complicated datasets. Explain the pros and cons of using PyTorch.\n",
      "==============\n",
      "As a machine learning expert, I'd be happy to provide a detailed analysis of the pros and cons of using PyTorch, a popular open-source machine learning framework.\n",
      "\n",
      "**Pros:**\n",
      "\n",
      "1. **Dynamic Compute Graph**: PyTorch's dynamic compute graph allows for more flexible and efficient computation. It can recompute the gradients only for the inputs that have changed, which is particularly useful for rapid prototyping and development.\n",
      "2. **Autograd**: PyTorch's automatic differentiation system, Autograd, is highly efficient and accurate. It can compute gradients for complex computations, making it an excellent choice for deep learning models.\n",
      "3. **Modular Architecture**: PyTorch's modular architecture enables easy integration of custom modules and layers. This modularity makes it easy to implement complex models and customize them for specific tasks.\n",
      "4. **Rapid Prototyping**: PyTorch's Pythonic API and dynamic computation graph enable rapid prototyping and experimentation. This is particularly useful for researchers and developers who need to test and iterate on ideas quickly.\n",
      "5. **Large Community**: PyTorch has a large and active community, which ensures that there are many pre-built models, tutorials, and resources available.\n",
      "6. **Native Support for Distributed Training**: PyTorch provides native support for distributed training, making it easy to scale models across multiple machines.\n",
      "7. **Interoperability**: PyTorch models can be easily converted to other formats, such as ONNX, making it easy to deploy models in various environments.\n",
      "\n",
      "**Cons:**\n",
      "\n",
      "1. **Steeper Learning Curve**: PyTorch's dynamic computation graph and Autograd system can be challenging to understand and master, especially for those without prior experience with automatic differentiation.\n",
      "2. **Performance Overhead**: PyTorch's dynamic computation graph can introduce performance overhead, particularly for small models or models with simple computations.\n",
      "3. **Memory Management**: PyTorch's dynamic memory allocation can lead to memory leaks and fragmentation, especially when working with large models or datasets.\n",
      "4. **Limited Support for Certain Optimizers**: PyTorch's optimizer implementation is not as comprehensive as some other frameworks, such as TensorFlow.\n",
      "5. **Debugging Challenges**: PyTorch's dynamic computation graph can make it more difficult to debug models, as the computation graph is constructed at runtime.\n",
      "6. **Limited Support for Certain Hardware**: PyTorch's support for certain hardware, such as Google's TPUs, is not as comprehensive as some other frameworks.\n",
      "7. **Versioning Issues**: PyTorch's rapid release cycle can lead to versioning issues, making it challenging to maintain compatibility across different versions.\n",
      "\n",
      "**When to Use PyTorch:**\n",
      "\n",
      "1. **Rapid Prototyping**: PyTorch is an excellent choice for rapid prototyping and experimentation, particularly for researchers and developers who need to test and iterate on ideas quickly.\n",
      "2. **Dynamic Models**: PyTorch's dynamic computation graph makes it an excellent choice for models that require dynamic computation, such as those with conditional statements or recursive neural networks.\n",
      "3. **Autograd**: PyTorch's Autograd system makes it an excellent choice for models that require accurate and efficient gradient computation.\n",
      "\n",
      "**When to Avoid PyTorch:**\n",
      "\n",
      "1. **Simple Models**: For simple models with straightforward computations, other frameworks like TensorFlow or Keras might be more suitable due to their simpler APIs and lower performance overhead.\n",
      "2. **Memory-Constrained Environments**: PyTorch's dynamic memory allocation can be problematic in memory-constrained environments, making other frameworks a better choice.\n",
      "\n",
      "In conclusion, PyTorch is an excellent choice for rapid prototyping, dynamic models, and Autograd-based computations. However, it may not be the best fit for simple models, memory-constrained environments, or applications that require low-level memory management.\n",
      "\n"
     ]
    }
   ],
   "source": [
    "complete_and_print(\"Explain the pros and cons of using PyTorch.\")\n",
    "# More likely to explain the pros and cons of PyTorch covers general areas like documentation, the PyTorch community, and mentions a steep learning curve\n",
    "\n",
    "complete_and_print(\"Your role is a machine learning expert who gives highly technical advice to senior engineers who work with complicated datasets. Explain the pros and cons of using PyTorch.\")\n",
    "# Often results in more technical benefits and drawbacks that provide more technical details on how model layers"
   ]
  },
  {
   "attachments": {},
   "cell_type": "markdown",
   "metadata": {},
   "source": [
    "### Chain-of-Thought\n",
    "\n",
    "Simply adding a phrase encouraging step-by-step thinking \"significantly improves the ability of large language models to perform complex reasoning\" ([Wei et al. (2022)](https://arxiv.org/abs/2201.11903)). This technique is called \"CoT\" or \"Chain-of-Thought\" prompting.\n",
    "\n",
    "Llama 3 now reasons step-by-step naturally without the addition of the phrase. This section remains for completeness."
   ]
  },
  {
   "cell_type": "code",
   "execution_count": 14,
   "metadata": {},
   "outputs": [
    {
     "name": "stdout",
     "output_type": "stream",
     "text": [
      "==============\n",
      "Who lived longer, Mozart or Elvis?\n",
      "==============\n",
      "Wolfgang Amadeus Mozart (1756-1791) lived to be 35 years old.\n",
      "\n",
      "Elvis Presley (1935-1977) lived to be 42 years old.\n",
      "\n",
      "So, Elvis lived about 7 years longer than Mozart.\n",
      "\n",
      "==============\n",
      "Who lived longer, Mozart or Elvis? Let's think through this carefully, step by step.\n",
      "==============\n",
      "What a fascinating question! Let's indeed think this through step by step.\n",
      "\n",
      "**Step 1: Wolfgang Amadeus Mozart**\n",
      "Mozart was born on January 27, 1756, and died on December 5, 1791. To calculate his lifespan, we need to subtract his birth year from his death year:\n",
      "\n",
      "1791 (death year) - 1756 (birth year) = 35 years\n",
      "\n",
      "So, Mozart lived for approximately 35 years.\n",
      "\n",
      "**Step 2: Elvis Presley (Elvis)**\n",
      "Elvis was born on January 8, 1935, and died on August 16, 1977. Let's calculate his lifespan:\n",
      "\n",
      "1977 (death year) - 1935 (birth year) = 42 years\n",
      "\n",
      "Elvis lived for approximately 42 years.\n",
      "\n",
      "**Comparison**\n",
      "Now, let's compare their lifespans:\n",
      "\n",
      "Mozart lived for 35 years.\n",
      "Elvis lived for 42 years.\n",
      "\n",
      "**Conclusion**\n",
      "Elvis Presley lived longer than Wolfgang Amadeus Mozart by about 7 years.\n",
      "\n"
     ]
    }
   ],
   "source": [
    "prompt = \"Who lived longer, Mozart or Elvis?\"\n",
    "\n",
    "complete_and_print(prompt)\n",
    "# Llama 2 would often give the incorrect answer of \"Mozart\"\n",
    "\n",
    "complete_and_print(f\"{prompt} Let's think through this carefully, step by step.\")\n",
    "# Gives the correct answer \"Elvis\""
   ]
  },
  {
   "attachments": {},
   "cell_type": "markdown",
   "metadata": {},
   "source": [
    "### Self-Consistency\n",
    "\n",
    "LLMs are probablistic, so even with Chain-of-Thought, a single generation might produce incorrect results. Self-Consistency ([Wang et al. (2022)](https://arxiv.org/abs/2203.11171)) introduces enhanced accuracy by selecting the most frequent answer from multiple generations (at the cost of higher compute):"
   ]
  },
  {
   "cell_type": "code",
   "execution_count": 15,
   "metadata": {},
   "outputs": [
    {
     "name": "stdout",
     "output_type": "stream",
     "text": [
      "Answers: ['50', '50', '60', '50', '50']\n",
      " Final answer: 50\n"
     ]
    }
   ],
   "source": [
    "import re\n",
    "from statistics import mode\n",
    "\n",
    "def gen_answer():\n",
    "    response = completion(\n",
    "        \"John found that the average of 15 numbers is 40.\"\n",
    "        \"If 10 is added to each number then the mean of the numbers is?\"\n",
    "        \"Report the answer surrounded by backticks (example: `123`)\",\n",
    "    )\n",
    "    match = re.search(r'`(\\d+)`', response)\n",
    "    if match is None:\n",
    "        return None\n",
    "    return match.group(1)\n",
    "\n",
    "answers = [gen_answer() for i in range(5)]\n",
    "\n",
    "print(\n",
    "    f\"Answers: {answers}\\n\",\n",
    "    f\"Final answer: {mode(answers)}\",\n",
    "    )\n",
    "\n",
    "# Sample runs of Llama-3-70B (all correct):\n",
    "# ['60', '50', '50', '50', '50'] -> 50\n",
    "# ['50', '50', '50', '60', '50'] -> 50\n",
    "# ['50', '50', '60', '50', '50'] -> 50"
   ]
  },
  {
   "attachments": {},
   "cell_type": "markdown",
   "metadata": {},
   "source": [
    "### Retrieval-Augmented Generation\n",
    "\n",
    "You'll probably want to use factual knowledge in your application. You can extract common facts from today's large models out-of-the-box (i.e. using just the model weights):"
   ]
  },
  {
   "cell_type": "code",
   "execution_count": 16,
   "metadata": {},
   "outputs": [
    {
     "name": "stdout",
     "output_type": "stream",
     "text": [
      "==============\n",
      "What is the capital of the California?\n",
      "==============\n",
      "The capital of California is Sacramento.\n",
      "\n"
     ]
    }
   ],
   "source": [
    "complete_and_print(\"What is the capital of the California?\")\n",
    "# Gives the correct answer \"Sacramento\""
   ]
  },
  {
   "attachments": {},
   "cell_type": "markdown",
   "metadata": {},
   "source": [
    "However, more specific facts, or private information, cannot be reliably retrieved. The model will either declare it does not know or hallucinate an incorrect answer:"
   ]
  },
  {
   "cell_type": "code",
   "execution_count": 17,
   "metadata": {},
   "outputs": [
    {
     "name": "stdout",
     "output_type": "stream",
     "text": [
      "==============\n",
      "What was the temperature in Menlo Park on December 12th, 2023?\n",
      "==============\n",
      "I'm an AI, I don't have have access to real-time or historical weather data. However, I can suggest some ways for you to find the temperature in Menlo Park on December 12th, 2023.\n",
      "\n",
      "1. Check online weather websites: You can check websites like AccuWeather, Weather.com, or the National Weather Service (NWS) for historical weather data. They may have archives of past weather data, including temperature readings for specific dates and locations.\n",
      "2. Contact local weather stations: Reach out to local weather stations or news outlets in Menlo Park and ask if they have records of the temperature on December 12th, 2023.\n",
      "3. Check with local government: You can also contact the City of Menlo Park or the San Mateo County government to see if they have any records of weather data for that specific date.\n",
      "\n",
      "Keep in mind that if December 12th, 2023, is in the future, the temperature data will not be available yet.\n",
      "\n",
      "==============\n",
      "What time is my dinner reservation on Saturday and what should I wear?\n",
      "==============\n",
      "I'm just an AI, I don't have access to your personal schedule or reservations. I'm a large language model, I don't have the ability to know your personal information or keep track of your schedule.\n",
      "\n",
      "If you want to know what time your dinner reservation is on Saturday, you should check your calendar, email, or the website/app where you made the reservation. You can also try contacting the restaurant directly to confirm the details of your reservation.\n",
      "\n",
      "As for what to wear, it depends on the type of restaurant, the occasion, and your personal style. If you're unsure, you could consider calling the restaurant or checking their website to get an idea of their dress code or atmosphere.\n",
      "\n"
     ]
    }
   ],
   "source": [
    "complete_and_print(\"What was the temperature in Menlo Park on December 12th, 2023?\")\n",
    "# \"I'm just an AI, I don't have access to real-time weather data or historical weather records.\"\n",
    "\n",
    "complete_and_print(\"What time is my dinner reservation on Saturday and what should I wear?\")\n",
    "# \"I'm not able to access your personal information [..] I can provide some general guidance\""
   ]
  },
  {
   "attachments": {},
   "cell_type": "markdown",
   "metadata": {},
   "source": [
    "Retrieval-Augmented Generation, or RAG, describes the practice of including information in the prompt you've retrived from an external database ([Lewis et al. (2020)](https://arxiv.org/abs/2005.11401v4)). It's an effective way to incorporate facts into your LLM application and is more affordable than fine-tuning which may be costly and negatively impact the foundational model's capabilities.\n",
    "\n",
    "This could be as simple as a lookup table or as sophisticated as a [vector database]([FAISS](https://github.com/facebookresearch/faiss)) containing all of your company's knowledge:"
   ]
  },
  {
   "cell_type": "code",
   "execution_count": 18,
   "metadata": {},
   "outputs": [
    {
     "name": "stdout",
     "output_type": "stream",
     "text": [
      "==============\n",
      "Given the following information: 'The temperature in Menlo Park was 51 degrees Fahrenheit on 2023-12-12'', respond to: 'What is the temperature in Menlo Park on 2023-12-12?'\n",
      "==============\n",
      "The temperature in Menlo Park on 2023-12-12 is 51 degrees Fahrenheit.\n",
      "\n",
      "==============\n",
      "Given the following information: 'The temperature in Menlo Park was unknown temperature on 2023-07-18'', respond to: 'What is the temperature in Menlo Park on 2023-07-18?'\n",
      "==============\n",
      "The temperature in Menlo Park on 2023-07-18 is unknown.\n",
      "\n"
     ]
    }
   ],
   "source": [
    "MENLO_PARK_TEMPS = {\n",
    "    \"2023-12-11\": \"52 degrees Fahrenheit\",\n",
    "    \"2023-12-12\": \"51 degrees Fahrenheit\",\n",
    "    \"2023-12-13\": \"51 degrees Fahrenheit\",\n",
    "}\n",
    "\n",
    "\n",
    "def prompt_with_rag(retrived_info, question):\n",
    "    complete_and_print(\n",
    "        f\"Given the following information: '{retrived_info}', respond to: '{question}'\"\n",
    "    )\n",
    "\n",
    "\n",
    "def ask_for_temperature(day):\n",
    "    temp_on_day = MENLO_PARK_TEMPS.get(day) or \"unknown temperature\"\n",
    "    prompt_with_rag(\n",
    "        f\"The temperature in Menlo Park was {temp_on_day} on {day}'\",  # Retrieved fact\n",
    "        f\"What is the temperature in Menlo Park on {day}?\",  # User question\n",
    "    )\n",
    "\n",
    "\n",
    "ask_for_temperature(\"2023-12-12\")\n",
    "# \"Sure! The temperature in Menlo Park on 2023-12-12 was 51 degrees Fahrenheit.\"\n",
    "\n",
    "ask_for_temperature(\"2023-07-18\")\n",
    "# \"I'm not able to provide the temperature in Menlo Park on 2023-07-18 as the information provided states that the temperature was unknown.\""
   ]
  },
  {
   "attachments": {},
   "cell_type": "markdown",
   "metadata": {},
   "source": [
    "### Program-Aided Language Models\n",
    "\n",
    "LLMs, by nature, aren't great at performing calculations. Let's try:\n",
    "\n",
    "$$\n",
    "((-5 + 93 * 4 - 0) * (4^4 + -7 + 0 * 5))\n",
    "$$\n",
    "\n",
    "(The correct answer is 91383.)"
   ]
  },
  {
   "cell_type": "code",
   "execution_count": 19,
   "metadata": {},
   "outputs": [
    {
     "name": "stdout",
     "output_type": "stream",
     "text": [
      "==============\n",
      "\n",
      "Calculate the answer to the following math problem:\n",
      "\n",
      "((-5 + 93 * 4 - 0) * (4^4 + -7 + 0 * 5))\n",
      "\n",
      "==============\n",
      "To calculate the answer, we need to follow the order of operations (PEMDAS):\n",
      "\n",
      "1. Evaluate the expressions inside the parentheses:\n",
      "\n",
      "(-5 + 93 * 4 - 0) = ?\n",
      "\n",
      "First, calculate the multiplication: 93 * 4 = 372\n",
      "\n",
      "Then, add and subtract from left to right: -5 + 372 - 0 = 367\n",
      "\n",
      "So, the first part of the expression is 367.\n",
      "\n",
      "2. Evaluate the second part of the expression:\n",
      "\n",
      "(4^4 + -7 + 0 * 5) = ?\n",
      "\n",
      "First, calculate the exponentiation: 4^4 = 256\n",
      "\n",
      "Then, add and subtract from left to right: 256 - 7 + 0 = 249\n",
      "\n",
      "So, the second part of the expression is 249.\n",
      "\n",
      "3. Multiply the two results:\n",
      "\n",
      "367 * 249 = 91483\n",
      "\n",
      "Therefore, the final answer is 91483.\n",
      "\n"
     ]
    }
   ],
   "source": [
    "complete_and_print(\"\"\"\n",
    "Calculate the answer to the following math problem:\n",
    "\n",
    "((-5 + 93 * 4 - 0) * (4^4 + -7 + 0 * 5))\n",
    "\"\"\")\n",
    "# Gives incorrect answers like 92448, 92648, 95463"
   ]
  },
  {
   "attachments": {},
   "cell_type": "markdown",
   "metadata": {},
   "source": [
    "[Gao et al. (2022)](https://arxiv.org/abs/2211.10435) introduced the concept of \"Program-aided Language Models\" (PAL). While LLMs are bad at arithmetic, they're great for code generation. PAL leverages this fact by instructing the LLM to write code to solve calculation tasks."
   ]
  },
  {
   "cell_type": "code",
   "execution_count": 20,
   "metadata": {},
   "outputs": [
    {
     "name": "stdout",
     "output_type": "stream",
     "text": [
      "==============\n",
      "\n",
      "    # Python code to calculate: ((-5 + 93 * 4 - 0) * (4^4 + -7 + 0 * 5))\n",
      "    \n",
      "==============\n",
      "Here is the Python code to calculate the given expression:\n",
      "\n",
      "```\n",
      "expression = ((-5 + 93 * 4 - 0) * (4**4 - 7 + 0 * 5))\n",
      "print(expression)\n",
      "```\n",
      "\n",
      "Let's break down the calculation:\n",
      "\n",
      "1. `-5 + 93 * 4 - 0`:\n",
      "   - `93 * 4` = 372\n",
      "   - `-5 + 372 - 0` = 367\n",
      "\n",
      "2. `4**4` = 256\n",
      "   - `256 - 7 + 0 * 5` = 249\n",
      "\n",
      "Now, multiply the two results:\n",
      "   - `367 * 249` = 91483\n",
      "\n",
      "So, the final result is `91483`.\n",
      "\n"
     ]
    }
   ],
   "source": [
    "complete_and_print(\n",
    "    \"\"\"\n",
    "    # Python code to calculate: ((-5 + 93 * 4 - 0) * (4^4 + -7 + 0 * 5))\n",
    "    \"\"\",\n",
    ")"
   ]
  },
  {
   "cell_type": "code",
   "execution_count": 21,
   "metadata": {},
   "outputs": [
    {
     "name": "stdout",
     "output_type": "stream",
     "text": [
      "91383\n"
     ]
    }
   ],
   "source": [
    "# The following code was generated by Llama 3 70B:\n",
    "\n",
    "result = ((-5 + 93 * 4 - 0) * (4**4 - 7 + 0 * 5))\n",
    "print(result)"
   ]
  },
  {
   "attachments": {},
   "cell_type": "markdown",
   "metadata": {},
   "source": [
    "### Limiting Extraneous Tokens\n",
    "\n",
    "A common struggle with Llama 2 is getting output without extraneous tokens (ex. \"Sure! Here's more information on...\"), even if explicit instructions are given to Llama 2 to be concise and no preamble. Llama 3 can better follow instructions.\n",
    "\n",
    "Check out this improvement that combines a role, rules and restrictions, explicit instructions, and an example:"
   ]
  },
  {
   "cell_type": "code",
   "execution_count": 22,
   "metadata": {},
   "outputs": [
    {
     "name": "stdout",
     "output_type": "stream",
     "text": [
      "==============\n",
      "Give me the zip code for Menlo Park in JSON format with the field 'zip_code'\n",
      "==============\n",
      "Here is the zip code for Menlo Park, CA in JSON format:\n",
      "\n",
      "```\n",
      "{\n",
      "  \"zip_code\": \"94025\"\n",
      "}\n",
      "```\n",
      "\n",
      "Note: Menlo Park has multiple zip codes, but 94025 is one of the main ones. If you need a specific zip code for a particular area of Menlo Park, let me know!\n",
      "\n",
      "==============\n",
      "\n",
      "    You are a robot that only outputs JSON.\n",
      "    You reply in JSON format with the field 'zip_code'.\n",
      "    Example question: What is the zip code of the Empire State Building? Example answer: {'zip_code': 10118}\n",
      "    Now here is my question: What is the zip code of Menlo Park?\n",
      "    \n",
      "==============\n",
      "{'zip_code': 94025}\n",
      "\n"
     ]
    }
   ],
   "source": [
    "complete_and_print(\n",
    "    \"Give me the zip code for Menlo Park in JSON format with the field 'zip_code'\",\n",
    ")\n",
    "# Likely returns the JSON and also \"Sure! Here's the JSON...\"\n",
    "\n",
    "complete_and_print(\n",
    "    \"\"\"\n",
    "    You are a robot that only outputs JSON.\n",
    "    You reply in JSON format with the field 'zip_code'.\n",
    "    Example question: What is the zip code of the Empire State Building? Example answer: {'zip_code': 10118}\n",
    "    Now here is my question: What is the zip code of Menlo Park?\n",
    "    \"\"\",\n",
    ")\n",
    "# \"{'zip_code': 94025}\""
   ]
  },
  {
   "attachments": {},
   "cell_type": "markdown",
   "metadata": {},
   "source": [
    "## Additional References\n",
    "- [PromptingGuide.ai](https://www.promptingguide.ai/)\n",
    "- [LearnPrompting.org](https://learnprompting.org/)\n",
    "- [Lil'Log Prompt Engineering Guide](https://lilianweng.github.io/posts/2023-03-15-prompt-engineering/)\n"
   ]
  },
  {
   "attachments": {},
   "cell_type": "markdown",
   "metadata": {},
   "source": [
    "## Author & Contact\n",
    "\n",
    "Edited by [Dalton Flanagan](https://www.linkedin.com/in/daltonflanagan/) (dalton@meta.com) with contributions from Mohsen Agsen, Bryce Bortree, Ricardo Juan Palma Duran, Kaolin Fire, Thomas Scialom."
   ]
  }
 ],
 "metadata": {
  "captumWidgetMessage": [],
  "dataExplorerConfig": [],
  "kernelspec": {
   "display_name": "Python 3 (ipykernel)",
   "language": "python",
   "name": "python3"
  },
  "language_info": {
   "codemirror_mode": {
    "name": "ipython",
    "version": 3
   },
   "file_extension": ".py",
   "mimetype": "text/x-python",
   "name": "python",
   "nbconvert_exporter": "python",
   "pygments_lexer": "ipython3",
   "version": "3.11.9"
  },
  "last_base_url": "https://bento.edge.x2p.facebook.net/",
  "last_kernel_id": "161e2a7b-2d2b-4995-87f3-d1539860ecac",
  "last_msg_id": "4eab1242-d815b886ebe4f5b1966da982_543",
  "last_server_session_id": "4a7b41c5-ed66-4dcb-a376-22673aebb469",
  "operator_data": [],
  "outputWidgetContext": []
 },
 "nbformat": 4,
 "nbformat_minor": 4
}
