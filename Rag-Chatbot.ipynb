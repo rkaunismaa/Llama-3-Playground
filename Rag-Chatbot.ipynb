{
 "cells": [
  {
   "cell_type": "markdown",
   "metadata": {},
   "source": [
    "#### Wednesday, April 24, 2024\n",
    "\n",
    "mamba activate llama3\n",
    "\n",
    "The blog post [RAG chatbot using llama3](https://huggingface.co/blog/not-lain/rag-chatbot-using-llama3) is different than the [Code](https://huggingface.co/spaces/not-lain/RAG-Chatbot/tree/main)"
   ]
  },
  {
   "cell_type": "code",
   "execution_count": 1,
   "metadata": {},
   "outputs": [
    {
     "name": "stderr",
     "output_type": "stream",
     "text": [
      "/home/rob/miniforge3/envs/llama3/lib/python3.11/site-packages/tqdm/auto.py:21: TqdmWarning: IProgress not found. Please update jupyter and ipywidgets. See https://ipywidgets.readthedocs.io/en/stable/user_install.html\n",
      "  from .autonotebook import tqdm as notebook_tqdm\n"
     ]
    }
   ],
   "source": [
    "# import gradio as gr\n",
    "from datasets import load_dataset\n",
    "\n",
    "import os\n",
    "import spaces\n",
    "from transformers import AutoModelForCausalLM, AutoTokenizer, TextIteratorStreamer, BitsAndBytesConfig\n",
    "import torch\n",
    "from threading import Thread\n",
    "from sentence_transformers import SentenceTransformer\n",
    "from datasets import load_dataset\n",
    "import time\n"
   ]
  },
  {
   "cell_type": "code",
   "execution_count": 2,
   "metadata": {},
   "outputs": [
    {
     "data": {
      "text/plain": [
       "device(type='cuda')"
      ]
     },
     "execution_count": 2,
     "metadata": {},
     "output_type": "execute_result"
    }
   ],
   "source": [
    "# only target the 4090 ...\n",
    "import os\n",
    "os.environ[\"CUDA_VISIBLE_DEVICES\"]=\"0\"\n",
    "\n",
    "import torch\n",
    "device = torch.device(\"cuda\" if torch.cuda.is_available() else \"cpu\")\n",
    "device\n"
   ]
  },
  {
   "cell_type": "code",
   "execution_count": null,
   "metadata": {},
   "outputs": [],
   "source": [
    "import os\n",
    "\n",
    "token = os.environ[\"HF_AUTH_TOKEN\"] \n",
    "\n",
    "print(token)"
   ]
  },
  {
   "cell_type": "code",
   "execution_count": 4,
   "metadata": {},
   "outputs": [],
   "source": [
    "ST = SentenceTransformer(\"mixedbread-ai/mxbai-embed-large-v1\")\n",
    "\n",
    "# 9m 43.0s"
   ]
  },
  {
   "cell_type": "code",
   "execution_count": 5,
   "metadata": {},
   "outputs": [],
   "source": [
    "dataset = load_dataset(\"not-lain/wikipedia\",revision = \"embedded\")"
   ]
  },
  {
   "cell_type": "code",
   "execution_count": 6,
   "metadata": {},
   "outputs": [
    {
     "name": "stderr",
     "output_type": "stream",
     "text": [
      "100%|██████████| 3/3 [00:00<00:00, 212.81it/s]\n"
     ]
    }
   ],
   "source": [
    "data = dataset[\"train\"]\n",
    "data = data.add_faiss_index(\"embeddings\") # column name that has the embeddings of the dataset"
   ]
  },
  {
   "cell_type": "code",
   "execution_count": 7,
   "metadata": {},
   "outputs": [],
   "source": [
    "model_id = \"meta-llama/Meta-Llama-3-8B-Instruct\"\n",
    "\n",
    "# use quantization to lower GPU usage\n",
    "bnb_config = BitsAndBytesConfig(\n",
    "    load_in_4bit=True, bnb_4bit_use_double_quant=True, bnb_4bit_quant_type=\"nf4\", bnb_4bit_compute_dtype=torch.bfloat16\n",
    ")\n"
   ]
  },
  {
   "cell_type": "code",
   "execution_count": 8,
   "metadata": {},
   "outputs": [
    {
     "name": "stderr",
     "output_type": "stream",
     "text": [
      "Special tokens have been added in the vocabulary, make sure the associated word embeddings are fine-tuned or trained.\n"
     ]
    }
   ],
   "source": [
    "tokenizer = AutoTokenizer.from_pretrained(model_id,token=token)"
   ]
  },
  {
   "cell_type": "code",
   "execution_count": 9,
   "metadata": {},
   "outputs": [
    {
     "name": "stderr",
     "output_type": "stream",
     "text": [
      "Loading checkpoint shards: 100%|██████████| 4/4 [00:05<00:00,  1.40s/it]\n"
     ]
    }
   ],
   "source": [
    "model = AutoModelForCausalLM.from_pretrained(\n",
    "    model_id,\n",
    "    torch_dtype=torch.bfloat16,\n",
    "    device_map=\"auto\",\n",
    "    quantization_config=bnb_config,\n",
    "    token=token\n",
    ")"
   ]
  },
  {
   "cell_type": "code",
   "execution_count": 10,
   "metadata": {},
   "outputs": [],
   "source": [
    "terminators = [\n",
    "    tokenizer.eos_token_id,\n",
    "    tokenizer.convert_tokens_to_ids(\"<|eot_id|>\")\n",
    "]\n",
    "\n",
    "SYS_PROMPT = \"\"\"You are an assistant for answering questions.\n",
    "You are given the extracted parts of a long document and a question. Provide a conversational answer.\n",
    "If you don't know the answer, just say \"I do not know.\" Don't make up an answer.\"\"\"\n"
   ]
  },
  {
   "cell_type": "code",
   "execution_count": 11,
   "metadata": {},
   "outputs": [],
   "source": [
    "\n",
    "def search(query: str, k: int = 3 ):\n",
    "    \"\"\"a function that embeds a new query and returns the most probable results\"\"\"\n",
    "    embedded_query = ST.encode(query) # embed new query\n",
    "    scores, retrieved_examples = data.get_nearest_examples( # retrieve results\n",
    "        \"embeddings\", embedded_query, # compare our new embedded query with the dataset embeddings\n",
    "        k=k # get only top k results\n",
    "    )\n",
    "    return scores, retrieved_examples"
   ]
  },
  {
   "cell_type": "code",
   "execution_count": 12,
   "metadata": {},
   "outputs": [],
   "source": [
    "def format_prompt(prompt,retrieved_documents,k):\n",
    "    \"\"\"using the retrieved documents we will prompt the model to generate our responses\"\"\"\n",
    "    PROMPT = f\"Question:{prompt}\\nContext:\"\n",
    "    for idx in range(k) :\n",
    "        PROMPT+= f\"{retrieved_documents['text'][idx]}\\n\"\n",
    "    return PROMPT"
   ]
  },
  {
   "cell_type": "code",
   "execution_count": 13,
   "metadata": {},
   "outputs": [],
   "source": [
    "@spaces.GPU(duration=150)\n",
    "def talk(prompt,history):\n",
    "    k = 1 # number of retrieved documents\n",
    "    scores , retrieved_documents = search(prompt, k)\n",
    "    formatted_prompt = format_prompt(prompt,retrieved_documents,k)\n",
    "    formatted_prompt = formatted_prompt[:2000] # to avoid GPU OOM\n",
    "    messages = [{\"role\":\"system\",\"content\":SYS_PROMPT},{\"role\":\"user\",\"content\":formatted_prompt}]\n",
    "    # tell the model to generate\n",
    "    input_ids = tokenizer.apply_chat_template(\n",
    "      messages,\n",
    "      add_generation_prompt=True,\n",
    "      return_tensors=\"pt\"\n",
    "    ).to(model.device)\n",
    "    outputs = model.generate(\n",
    "      input_ids,\n",
    "      max_new_tokens=1024,\n",
    "      eos_token_id=terminators,\n",
    "      do_sample=True,\n",
    "      temperature=0.6,\n",
    "      top_p=0.9,\n",
    "    )\n",
    "    streamer = TextIteratorStreamer(\n",
    "            tokenizer, timeout=10.0, skip_prompt=True, skip_special_tokens=True\n",
    "        )\n",
    "    generate_kwargs = dict(\n",
    "        input_ids= input_ids,\n",
    "        streamer=streamer,\n",
    "        max_new_tokens=1024,\n",
    "        do_sample=True,\n",
    "        top_p=0.95,\n",
    "        temperature=0.75,\n",
    "        eos_token_id=terminators,\n",
    "    )\n",
    "    t = Thread(target=model.generate, kwargs=generate_kwargs)\n",
    "    t.start()\n",
    "\n",
    "    outputs = []\n",
    "    for text in streamer:\n",
    "        outputs.append(text)\n",
    "        print(outputs)\n",
    "        yield \"\".join(outputs)\n",
    "    \n",
    "# def talk(message, history):\n",
    "#     print(\"history, \", history)\n",
    "#     print(\"message \", message)\n",
    "#     print(\"searching dataset ...\")\n",
    "#     retrieved_examples = search(message)\n",
    "#     print(\"preparing prompt ...\")\n",
    "#     message, metadata = prepare_prompt(message, retrieved_examples)\n",
    "#     resources = HEADER\n",
    "#     print(\"preparing metadata ...\")\n",
    "#     for title, url in metadata:\n",
    "#         resources += f\"[{title}]({url}),  \"\n",
    "#     print(\"preparing chat template ...\")\n",
    "#     chat = []\n",
    "#     for item in history:\n",
    "#         chat.append({\"role\": \"user\", \"content\": item[0]})\n",
    "#         cleaned_past = item[1].split(HEADER)[0]\n",
    "#         chat.append({\"role\": \"assistant\", \"content\": cleaned_past})\n",
    "#     chat.append({\"role\": \"user\", \"content\": message})\n",
    "#     messages = tokenizer.apply_chat_template(\n",
    "#         chat, tokenize=False, add_generation_prompt=True\n",
    "#     )\n",
    "#     print(\"chat template prepared, \", messages)\n",
    "#     print(\"tokenizing input ...\")\n",
    "#     # Tokenize the messages string\n",
    "#     model_inputs = tokenizer([messages], return_tensors=\"pt\").to(device)\n",
    "#     streamer = TextIteratorStreamer(\n",
    "#         tokenizer, timeout=10.0, skip_prompt=True, skip_special_tokens=True\n",
    "#     )\n",
    "    # generate_kwargs = dict(\n",
    "    #     model_inputs,\n",
    "    #     streamer=streamer,\n",
    "    #     max_new_tokens=1024,\n",
    "    #     do_sample=True,\n",
    "    #     top_p=0.95,\n",
    "    #     top_k=1000,\n",
    "    #     temperature=0.75,\n",
    "    #     num_beams=1,\n",
    "    # )\n",
    "#     print(\"initializing thread ...\")\n",
    "#     t = Thread(target=model.generate, kwargs=generate_kwargs)\n",
    "#     t.start()\n",
    "#     time.sleep(1)\n",
    "#     # Initialize an empty string to store the generated text\n",
    "#     partial_text = \"\"\n",
    "#     i = 0\n",
    "#     while t.is_alive():\n",
    "#         try:\n",
    "#             for new_text in streamer:\n",
    "#                 if new_text is not None:\n",
    "#                     partial_text += new_text\n",
    "#                     yield partial_text\n",
    "#         except Exception as e:\n",
    "#             print(f\"retry number {i}\\n LOGS:\\n\")\n",
    "#             i+=1\n",
    "#             print(e, e.args)\n",
    "#     partial_text += resources\n",
    "#     yield partial_text\n"
   ]
  },
  {
   "cell_type": "code",
   "execution_count": 14,
   "metadata": {},
   "outputs": [],
   "source": [
    "TITLE = \"# RAG\"\n",
    "\n",
    "DESCRIPTION = \"\"\"\n",
    "A rag pipeline with a chatbot feature\n",
    "Resources used to build this project :\n",
    "* embedding model : https://huggingface.co/mixedbread-ai/mxbai-embed-large-v1\n",
    "* dataset : https://huggingface.co/datasets/not-lain/wikipedia\n",
    "* faiss docs : https://huggingface.co/docs/datasets/v2.18.0/en/package_reference/main_classes#datasets.Dataset.add_faiss_index \n",
    "* chatbot : https://huggingface.co/meta-llama/Meta-Llama-3-8B-Instruct\n",
    "\"\"\""
   ]
  },
  {
   "cell_type": "code",
   "execution_count": null,
   "metadata": {},
   "outputs": [],
   "source": []
  }
 ],
 "metadata": {
  "kernelspec": {
   "display_name": "llama3",
   "language": "python",
   "name": "python3"
  },
  "language_info": {
   "codemirror_mode": {
    "name": "ipython",
    "version": 3
   },
   "file_extension": ".py",
   "mimetype": "text/x-python",
   "name": "python",
   "nbconvert_exporter": "python",
   "pygments_lexer": "ipython3",
   "version": "3.11.9"
  }
 },
 "nbformat": 4,
 "nbformat_minor": 2
}
