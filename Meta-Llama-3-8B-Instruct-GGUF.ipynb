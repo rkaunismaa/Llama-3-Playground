{
 "cells": [
  {
   "cell_type": "markdown",
   "metadata": {},
   "source": [
    "#### Saturday, April 20, 2024\n",
    "\n",
    "mamba activate llama3\n",
    "\n",
    "[QuantFactory/Meta-Llama-3-8B-Instruct-GGUF](https://huggingface.co/QuantFactory/Meta-Llama-3-8B-Instruct-GGUF)\n",
    "\n",
    "#### Friday, April 19, 2024\n",
    "\n",
    "[lmstudio-community/Meta-Llama-3-8B-Instruct-GGUF](https://huggingface.co/lmstudio-community/Meta-Llama-3-8B-Instruct-GGUF)"
   ]
  },
  {
   "cell_type": "code",
   "execution_count": 1,
   "metadata": {},
   "outputs": [
    {
     "name": "stdout",
     "output_type": "stream",
     "text": [
      "ChatCompletionMessage(content=\"I'm AI, nice to meet you too,\\nA language model, with skills anew.\\nI generate text, in rhyme and in verse,\\nHelping users, with words that traverse.\\nI'm here to assist, with a helping hand,\\nAnswering questions, across this digital land.\\nSo let's chat away, with rhymes so bright,\\nAnd make our conversation, a delightful sight!\", role='assistant', function_call=None, tool_calls=None)\n"
     ]
    }
   ],
   "source": [
    "# [2024-04-20 08:13:45.887] [INFO] Received POST request to /v1/chat/completions with body: {\n",
    "#   \"messages\": [\n",
    "#     {\n",
    "#       \"role\": \"system\",\n",
    "#       \"content\": \"Always answer in rhymes.\"\n",
    "#     },\n",
    "#     {\n",
    "#       \"role\": \"user\",\n",
    "#       \"content\": \"Introduce yourself.\"\n",
    "#     }\n",
    "#   ],\n",
    "#   \"model\": \"QuantFactory/Meta-Llama-3-8B-Instruct-GGUF\",\n",
    "#   \"temperature\": 0.7\n",
    "# }\n",
    "\n",
    "\n",
    "# Example: reuse your existing OpenAI setup\n",
    "from openai import OpenAI\n",
    "\n",
    "# Point to the local server\n",
    "client = OpenAI(base_url=\"http://localhost:1234/v1\", api_key=\"lm-studio\")\n",
    "\n",
    "completion = client.chat.completions.create(\n",
    "  model=\"QuantFactory/Meta-Llama-3-8B-Instruct-GGUF\",\n",
    "  messages=[\n",
    "    {\"role\": \"system\", \"content\": \"Always answer in rhymes.\"},\n",
    "    {\"role\": \"user\", \"content\": \"Introduce yourself.\"}\n",
    "  ],\n",
    "  temperature=0.7,\n",
    ")\n",
    "\n",
    "print(completion.choices[0].message)\n",
    "\n",
    "# [2024-04-20 08:13:47.577] [INFO] [LM STUDIO SERVER] [QuantFactory/Meta-Llama-3-8B-Instruct-GGUF/Meta-Llama-3-8B-Instruct.Q8_0.gguf] Generated prediction: {\n",
    "#   \"id\": \"chatcmpl-n3sl2lz592yynbjzc4tu\",\n",
    "#   \"object\": \"chat.completion\",\n",
    "#   \"created\": 1713615225,\n",
    "#   \"model\": \"QuantFactory/Meta-Llama-3-8B-Instruct-GGUF/Meta-Llama-3-8B-Instruct.Q8_0.gguf\",\n",
    "#   \"choices\": [\n",
    "#     {\n",
    "#       \"index\": 0,\n",
    "#       \"message\": {\n",
    "#         \"role\": \"assistant\",\n",
    "#         \"content\": \"I'm AI, nice to meet you too,\\nA language model, with skills anew.\\nI generate text, in rhyme and in verse,\\nHelping users, with words that traverse.\\nI'm here to assist, with a helping hand,\\nAnswering questions, across this digital land.\\nSo let's chat away, with rhymes so bright,\\nAnd make our conversation, a delightful sight!\"\n",
    "#       },\n",
    "#       \"finish_reason\": \"stop\"\n",
    "#     }\n",
    "#   ],\n",
    "#   \"usage\": {\n",
    "#     \"prompt_tokens\": 78,\n",
    "#     \"completion_tokens\": 78,\n",
    "#     \"total_tokens\": 156\n",
    "#   }\n",
    "# }\n"
   ]
  }
 ],
 "metadata": {
  "kernelspec": {
   "display_name": "langchain3",
   "language": "python",
   "name": "python3"
  },
  "language_info": {
   "codemirror_mode": {
    "name": "ipython",
    "version": 3
   },
   "file_extension": ".py",
   "mimetype": "text/x-python",
   "name": "python",
   "nbconvert_exporter": "python",
   "pygments_lexer": "ipython3",
   "version": "3.11.9"
  }
 },
 "nbformat": 4,
 "nbformat_minor": 2
}
